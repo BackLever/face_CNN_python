{
 "cells": [
  {
   "cell_type": "code",
   "execution_count": 1,
   "metadata": {},
   "outputs": [],
   "source": [
    "from PIL import Image\n",
    "import os\n",
    "import pickle\n",
    "import numpy as np\n",
    "\n",
    "class_dir = ['\\\\male', '\\\\female']\n",
    "current_dir = os.getcwd()\n",
    "train_dir = current_dir + '\\\\face_dataset\\\\Training'\n",
    "test_dir = current_dir + '\\\\face_dataset\\\\Validation'\n",
    "    \n",
    "def load_data(train_num=20000, test_num=5000, save_name='_face.pkl'):\n",
    "    save_file = current_dir + '\\\\' + save_name\n",
    "    if not os.path.exists(save_file):\n",
    "        dataset = {}\n",
    "        dataset['X_train'] = []\n",
    "        dataset['y_train'] = []\n",
    "        dataset['X_test'] = []\n",
    "        dataset['y_test'] = []\n",
    "        for name in class_dir:\n",
    "            train_dir_ = train_dir + name + '\\\\'\n",
    "            test_dir_ = test_dir + name + '\\\\'\n",
    "            for i in range(train_num//2):\n",
    "                img = Image.open(train_dir_ + os.listdir(train_dir_)[i]).convert('L')\n",
    "                img_resize = img.resize((50, 50))\n",
    "                pix = np.array(img_resize) / 255\n",
    "                dataset['X_train'].append(pix)\n",
    "                if name == '\\\\male':\n",
    "                    dataset['y_train'].append([1, 0])\n",
    "                elif name == '\\\\female':\n",
    "                    dataset['y_train'].append([0, 1])\n",
    "\n",
    "            for i in range(test_num//2):\n",
    "                img = Image.open(test_dir_ + os.listdir(test_dir_)[i]).convert('L')\n",
    "                img_resize = img.resize((50, 50))\n",
    "                pix = np.array(img_resize) / 255\n",
    "                dataset['X_test'].append(pix)\n",
    "                if name == '\\\\male':\n",
    "                    dataset['y_test'].append([1, 0])\n",
    "                elif name == '\\\\female':\n",
    "                    dataset['y_test'].append([0, 1])\n",
    "\n",
    "        for key in dataset.keys():\n",
    "            dataset[key] = np.array(dataset[key])\n",
    "\n",
    "        dataset['X_train'] = np.expand_dims(dataset['X_train'], axis=1)\n",
    "        dataset['X_test'] = np.expand_dims(dataset['X_test'], axis=1)\n",
    "        \n",
    "        with open(save_file, 'wb') as f:\n",
    "            pickle.dump(dataset, f, -1)\n",
    "    \n",
    "    with open(save_file, 'rb') as f:\n",
    "        dataset = pickle.load(f)\n",
    "    \n",
    "    return (dataset['X_train'], dataset['y_train']), (dataset['X_test'], dataset['y_test'])"
   ]
  }
 ],
 "metadata": {
  "kernelspec": {
   "display_name": "Python [conda env:artst]",
   "language": "python",
   "name": "artist"
  },
  "language_info": {
   "codemirror_mode": {
    "name": "ipython",
    "version": 3
   },
   "file_extension": ".py",
   "mimetype": "text/x-python",
   "name": "python",
   "nbconvert_exporter": "python",
   "pygments_lexer": "ipython3",
   "version": "3.8.5"
  }
 },
 "nbformat": 4,
 "nbformat_minor": 4
}
