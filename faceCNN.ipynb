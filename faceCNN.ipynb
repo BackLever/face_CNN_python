{
 "cells": [
  {
   "cell_type": "code",
   "execution_count": 1,
   "metadata": {},
   "outputs": [],
   "source": [
    "import numpy as np\n",
    "import matplotlib.pyplot as plt\n",
    "from face_load import load_data\n",
    "from convnet import ConvNet\n",
    "from optimizer import *\n",
    "\n",
    "from sklearn.utils import shuffle"
   ]
  },
  {
   "cell_type": "code",
   "execution_count": 2,
   "metadata": {},
   "outputs": [
    {
     "name": "stdout",
     "output_type": "stream",
     "text": [
      "Conv1: (32, 1, 7, 7)\n",
      "Conv2: (64, 32, 5, 5)\n",
      "Affine1: (5184, 1024)\n",
      "Affine2: (1024, 256)\n",
      "Affine3: (256, 64)\n",
      "Affine4: (64, 2)\n"
     ]
    }
   ],
   "source": [
    "(X_train, y_train), (X_test, y_test) = load_data()\n",
    "\n",
    "X_train, y_train = shuffle(X_train, y_train)\n",
    "X_test, y_test = shuffle(X_test, y_test)\n",
    "\n",
    "X_train, y_train = X_train[:20000], y_train[:20000]\n",
    "X_test, y_test = X_test[:5000], y_test[:5000]\n",
    "\n",
    "network = ConvNet(input_shape=(1,50,50), conv_num=2,\n",
    "                  conv_param=[{'filter_num':32, 'filter_size':7, 'pad':0, 'stride':1, 'pool_size':2},\n",
    "                              {'filter_num':64, 'filter_size':5, 'pad':0, 'stride':1, 'pool_size':2}],\n",
    "                  hidden_size_list=([1024, 256, 64]), output_size=2, weight_init_std=0.01)\n",
    "\n",
    "train_acc_list = []\n",
    "test_acc_list = []\n",
    "train_loss_list = []\n",
    "\n",
    "iters_num = 8000\n",
    "train_size = X_train.shape[0]\n",
    "batch_size = 100\n",
    "\n",
    "iter_per_epoch = int(max(train_size/batch_size, 1))\n",
    "max_epoch = iters_num / iter_per_epoch\n",
    "\n",
    "load_param = False\n",
    "training = True\n",
    "\n",
    "optimizer = Adam()\n",
    "network.model()"
   ]
  },
  {
   "cell_type": "code",
   "execution_count": null,
   "metadata": {},
   "outputs": [
    {
     "name": "stdout",
     "output_type": "stream",
     "text": [
      "\n",
      "Epoch: 1/40| train acc, test acc: 0.5, 0.55\n",
      "train loss(200/200): 0.40370274915473126\n",
      "Epoch: 2/40| train acc, test acc: 0.86, 0.87\n",
      "train loss(200/200): 0.30693752683086631\n",
      "Epoch: 3/40| train acc, test acc: 0.92, 0.86\n",
      "train loss(200/200): 0.20802576808199598\n",
      "Epoch: 4/40| train acc, test acc: 0.92, 0.9\n",
      "train loss(200/200): 0.19974043792896048\n",
      "Epoch: 5/40| train acc, test acc: 0.94, 0.9\n",
      "train loss(200/200): 0.144798003106427045\n",
      "Epoch: 6/40| train acc, test acc: 0.98, 0.92\n",
      "train loss(200/200): 0.20019777770780348\n",
      "Epoch: 7/40| train acc, test acc: 0.97, 0.94\n",
      "train loss(200/200): 0.10438352159304837\n",
      "Epoch: 8/40| train acc, test acc: 0.97, 0.96\n",
      "train loss(200/200): 0.181296430662093566\n",
      "Epoch: 9/40| train acc, test acc: 0.95, 0.9\n",
      "train loss(200/200): 0.072165275779922344\n",
      "Epoch: 10/40| train acc, test acc: 1.0, 0.93\n",
      "train loss(200/200): 0.040695139800684474\n",
      "Epoch: 11/40| train acc, test acc: 1.0, 0.87\n",
      "train loss(200/200): 0.139847291310139865\n",
      "Epoch: 12/40| train acc, test acc: 1.0, 0.96\n",
      "train loss(200/200): 0.036726609704215645\n",
      "Epoch: 13/40| train acc, test acc: 0.99, 0.95\n",
      "train loss(200/200): 0.029074365955339337\n",
      "Epoch: 14/40| train acc, test acc: 0.98, 0.95\n",
      "train loss(200/200): 0.065182517384106883\n",
      "Epoch: 15/40| train acc, test acc: 0.98, 0.97\n",
      "train loss(5/200): 0.021525527671500843"
     ]
    }
   ],
   "source": [
    "if load_param:\n",
    "    network.load_params('saved_params_face_20_5_8000_100.pkl')\n",
    "    \n",
    "if training:\n",
    "    for i in range(iters_num):\n",
    "        batch_mask = np.random.choice(train_size, batch_size)\n",
    "        X_batch = X_train[batch_mask]\n",
    "        y_batch = y_train[batch_mask]\n",
    "\n",
    "        grads = network.gradient(X_batch, y_batch)\n",
    "\n",
    "        optimizer.update(network.params, grads)\n",
    "\n",
    "        train_loss = network.loss(X_batch, y_batch)\n",
    "        train_loss_list.append(train_loss)\n",
    "\n",
    "        if i % iter_per_epoch == 0:\n",
    "            train_acc = network.accuracy(X_batch, y_batch)\n",
    "            test_batch = np.random.choice(X_test.shape[0], batch_size)\n",
    "            test_acc = network.accuracy(X_test[test_batch], y_test[test_batch])\n",
    "            train_acc_list.append(train_acc)\n",
    "            test_acc_list.append(test_acc)\n",
    "            print(\"\\nEpoch: \" + str(int(i//iter_per_epoch)+1) +\n",
    "                  \"/\"+str(int(max_epoch))+\"| train acc, test acc: \" + str(train_acc) + \", \" + str(test_acc))\n",
    "            count = 1\n",
    "\n",
    "        print(\"\\rtrain loss({}/{}): {}\".format(count, int(iter_per_epoch), str(train_loss)),end=\"\")\n",
    "        count += 1\n",
    "\n",
    "\n",
    "    print(\"\\n===== Final train, test acc: \" + str(network.accuracy(X_train[:1000], y_train[:1000]))\n",
    "          + \", \" + str(network.accuracy(X_test[:1000], y_test[:1000])) + \" =====\")\n",
    "\n",
    "    network.save_params(\"saved_params_face_{}_{}_{}_{}2.pkl\"\n",
    "                        .format(X_train.shape[0]//1000, X_test.shape[0]//1000, iters_num, batch_size))"
   ]
  },
  {
   "cell_type": "code",
   "execution_count": null,
   "metadata": {},
   "outputs": [],
   "source": [
    "if training:\n",
    "    plt.plot(train_loss_list[:], '-')\n",
    "    plt.xlabel('iteration')\n",
    "    plt.ylabel('loss')\n",
    "    plt.title('Train Loss')\n",
    "    plt.legend(['train loss'])\n",
    "    plt.show()\n",
    "\n",
    "    plt.plot(train_acc_list[:], '-')\n",
    "    plt.plot(test_acc_list[:], '--')\n",
    "    plt.xlabel('epoch')\n",
    "    plt.ylabel('accuracy')\n",
    "    plt.ylim(0.1, 1)\n",
    "    plt.xlim(0, max_epoch)\n",
    "    plt.xticks(range(0, int(max_epoch)+1, max(1, int(max_epoch//10))))\n",
    "    plt.title('Accuracy')\n",
    "    plt.legend(['train acc', 'test acc'])\n",
    "    plt.show()"
   ]
  },
  {
   "cell_type": "code",
   "execution_count": null,
   "metadata": {},
   "outputs": [],
   "source": []
  }
 ],
 "metadata": {
  "kernelspec": {
   "display_name": "Python [conda env:artst]",
   "language": "python",
   "name": "artist"
  },
  "language_info": {
   "codemirror_mode": {
    "name": "ipython",
    "version": 3
   },
   "file_extension": ".py",
   "mimetype": "text/x-python",
   "name": "python",
   "nbconvert_exporter": "python",
   "pygments_lexer": "ipython3",
   "version": "3.8.5"
  }
 },
 "nbformat": 4,
 "nbformat_minor": 4
}
